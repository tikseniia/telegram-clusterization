{
 "cells": [
  {
   "cell_type": "markdown",
   "metadata": {},
   "source": [
    "# 1. Preparing Telegram forwards data\n",
    "\n",
    "This section is dedicated to processing the initial dataset. This dataset includes the data of forwards between 100 politician Telegram channels and provided by TgStat service. \n",
    "\n",
    "Our goal is to look inside this data and based on it create three graphs:\n",
    "\n",
    "* simple graph\n",
    "* graph with weighted edges to estimate the strength of connection between channels\n",
    "* bipartite graph with weighted edges\n",
    "\n",
    "The idea of creating a bipatite graph with weighted edges goes from Castells communication model. This model defines that communicators in a network can be an author and a distributor as well. That's why we estimate every node from both positions."
   ]
  },
  {
   "cell_type": "markdown",
   "metadata": {},
   "source": [
    "### Import requiremental packages"
   ]
  },
  {
   "cell_type": "code",
   "execution_count": 1,
   "metadata": {},
   "outputs": [],
   "source": [
    "import networkx as nx\n",
    "from networkx.algorithms import bipartite\n",
    "import json\n",
    "import collections"
   ]
  },
  {
   "cell_type": "markdown",
   "metadata": {},
   "source": [
    "## 1.1 Forwards data"
   ]
  },
  {
   "cell_type": "markdown",
   "metadata": {},
   "source": [
    "### Import data and look on its structure"
   ]
  },
  {
   "cell_type": "code",
   "execution_count": 2,
   "metadata": {},
   "outputs": [
    {
     "name": "stdout",
     "output_type": "stream",
     "text": [
      "Number of forwards: 58341\n",
      "Available features: channel, mentioned_channel, mention_type, post_date, post_id, link, text, post_date_h\n"
     ]
    }
   ],
   "source": [
    "with open('../data/forwards_e_2019.jsonl') as f:\n",
    "    text = f.read()[0:-2]+']'\n",
    "    forwards = json.loads(text)\n",
    "\n",
    "print(\"Number of forwards:\", len(forwards))\n",
    "\n",
    "features = \", \".join(list(forwards[0]['row'].keys()))\n",
    "print(\"Available features:\", features)"
   ]
  },
  {
   "cell_type": "markdown",
   "metadata": {},
   "source": [
    "### Fields description\n",
    "\n",
    "* **channel** - the name of channel, forwarded a message\n",
    "* **mentioned_channel** - an author of a message\n",
    "* **mention_type** - forward of a message (*\"forward\"*) or mention in original message (*\"channel\"*)\n",
    "* **post_date** - UNIX date of *mention*\n",
    "* **post_id** - ID of the post in channel\n",
    "* **link** - likn to the post in channel\n",
    "* **text** - text of a mention message\n",
    "* **post_date_h** - normal format date of *mention*"
   ]
  },
  {
   "cell_type": "markdown",
   "metadata": {},
   "source": [
    "### Time period"
   ]
  },
  {
   "cell_type": "code",
   "execution_count": 3,
   "metadata": {},
   "outputs": [
    {
     "name": "stdout",
     "output_type": "stream",
     "text": [
      "The first message of 2018-12-31 21:03:28\n",
      "The last message of 2019-10-17 09:15:27\n"
     ]
    }
   ],
   "source": [
    "print(\"The first message of\", sorted(forwards, key=lambda x: x['row']['post_date'])[0]['row']['post_date_h'])\n",
    "print(\"The last message of\", sorted(forwards, key=lambda x: x['row']['post_date'])[-1]['row']['post_date_h'])"
   ]
  },
  {
   "cell_type": "markdown",
   "metadata": {},
   "source": [
    "### Clear forwards vs. mentions vs. posts based on mention"
   ]
  },
  {
   "cell_type": "code",
   "execution_count": 4,
   "metadata": {},
   "outputs": [
    {
     "name": "stdout",
     "output_type": "stream",
     "text": [
      "The number of forwards in data: 24225\n",
      "The number of frorwards with posts: 16521\n",
      "The number of channel mentions: 17595\n"
     ]
    }
   ],
   "source": [
    "print(\"The number of forwards in data:\", len([f for f in forwards if f['row']['mention_type'] == 'forward']))\n",
    "print(\"The number of frorwards with posts:\", len([f for f in forwards if f['row']['mention_type'] == 'post']))\n",
    "print(\"The number of channel mentions:\", len([f for f in forwards if f['row']['mention_type'] == 'channel']))"
   ]
  },
  {
   "cell_type": "markdown",
   "metadata": {},
   "source": [
    "#### An example of forward\n",
    "A forward is a message which was only reposted from author's channel."
   ]
  },
  {
   "cell_type": "code",
   "execution_count": 5,
   "metadata": {},
   "outputs": [
    {
     "name": "stdout",
     "output_type": "stream",
     "text": [
      "Forwarder: teory_elit\n",
      "Mentioned channel: redzion\n",
      "Link to the message: https://tgstat.ru/channel/teory_elit/8235\n"
     ]
    }
   ],
   "source": [
    "example_forward = [f for f in forwards if f['row']['mention_type'] == 'forward'][101]\n",
    "print(\"Forwarder:\", example_forward['row']['channel'])\n",
    "print(\"Mentioned channel:\", example_forward['row']['mentioned_channel'])\n",
    "print(\"Link to the message:\", example_forward['row']['link'])"
   ]
  },
  {
   "cell_type": "markdown",
   "metadata": {},
   "source": [
    "#### An example of channel mention\n",
    "A channel mention is a mention of channel name in a message"
   ]
  },
  {
   "cell_type": "code",
   "execution_count": 6,
   "metadata": {},
   "outputs": [
    {
     "name": "stdout",
     "output_type": "stream",
     "text": [
      "Forwarder: mediatech\n",
      "Mentioned channel: criminalru\n",
      "Link to the message: https://tgstat.ru/channel/mediatech/6657\n"
     ]
    }
   ],
   "source": [
    "example_forward = [f for f in forwards if f['row']['mention_type'] == 'channel'][2]\n",
    "print(\"Forwarder:\", example_forward['row']['channel'])\n",
    "print(\"Mentioned channel:\", example_forward['row']['mentioned_channel'])\n",
    "print(\"Link to the message:\", example_forward['row']['link'])"
   ]
  },
  {
   "cell_type": "markdown",
   "metadata": {},
   "source": [
    "#### An example of forward with post\n",
    "A forward with post means that forwarder write somethig additional based on a forwarding message."
   ]
  },
  {
   "cell_type": "code",
   "execution_count": 7,
   "metadata": {},
   "outputs": [
    {
     "name": "stdout",
     "output_type": "stream",
     "text": [
      "Forwarder: master_pera\n",
      "Mentioned channel: seryikardinal\n",
      "Link to the message: https://tgstat.ru/channel/master_pera/2857\n"
     ]
    }
   ],
   "source": [
    "example_forward = [f for f in forwards if f['row']['mention_type'] == 'post'][0]\n",
    "print(\"Forwarder:\", example_forward['row']['channel'])\n",
    "print(\"Mentioned channel:\", example_forward['row']['mentioned_channel'])\n",
    "print(\"Link to the message:\", example_forward['row']['link'])"
   ]
  },
  {
   "cell_type": "markdown",
   "metadata": {},
   "source": [
    "## 1.2 Simple graph"
   ]
  },
  {
   "cell_type": "code",
   "execution_count": 8,
   "metadata": {},
   "outputs": [
    {
     "name": "stdout",
     "output_type": "stream",
     "text": [
      "Number of nodes in the simple network: 100\n",
      "Number of edges in the graph: 3028\n"
     ]
    }
   ],
   "source": [
    "nodes = []\n",
    "edges = []\n",
    "\n",
    "# write unique nodes and edges between them\n",
    "for i in range(0, len(forwards)):\n",
    "    if forwards[i]['row']['channel'] not in nodes:\n",
    "        nodes.append(forwards[i]['row']['channel'])\n",
    "    if forwards[i]['row']['mentioned_channel'] not in nodes:\n",
    "        nodes.append(forwards[i]['row']['mentioned_channel'])\n",
    "        \n",
    "    edges.append((forwards[i]['row']['channel'], forwards[i]['row']['mentioned_channel']))\n",
    "    \n",
    "# create a simple graph\n",
    "G_simple = nx.Graph()\n",
    "G_simple.add_nodes_from(nodes)\n",
    "G_simple.add_edges_from(edges)\n",
    "\n",
    "# show statistics\n",
    "print(\"Number of nodes in the simple network:\", G_simple.number_of_nodes())\n",
    "print(\"Number of edges in the graph:\", G_simple.number_of_edges())\n",
    "\n",
    "# save this graph\n",
    "nx.write_gpickle(G_simple, \"graphs/1.2_simple_graph.gpickle\", protocol=4)"
   ]
  },
  {
   "cell_type": "code",
   "execution_count": 10,
   "metadata": {},
   "outputs": [
    {
     "data": {
      "text/plain": [
       "NodeView(('boilerroomchannel', 'criminalru', 'russica2', 'PolitBulka', 'SergeyKolyasnikov', 'fcpeshka', 'kaktovottak', 'mediatech', 'kremlebezBashennik', 'Sandymustache', 'stalin_gulag', 'kashinguru', 'otsuka_bld', 'SerpomPo', 'aavst55', 'ruredmantis', 'prbezposhady', 'popyachsa', 'navalny', 'vibornyk', 'bloodysx', 'redzion', 'greenserpent', 'russicatop', 'fuckyouthatswhy', 'Gubery', 'kstati_p', 'imnotbozhena', 'teory_elit', 'niemandswasser', 'margaritasimonyan', 'ekvinokurova', 'akitilop', 'krasniydom', 'MedvedevVesti', 'politjoystic', 'scienpolicy', 'SolovievLive', 'Ivorytowers', 'solarstorm', 'russianfuture', 'docpro', 'MayorFSB', 'go338', 'vybora', 'kononenkome', 'apostolaki_the_cat', 'kpotupchik', 'postposttruth', 'kbrvdvkr', 'gayasylum', 'rlz_the_kraken', 'politburo2', 'skabeeva', 'obrazbuduschego', 'tikandelaki', 'apologia', 'mysly', 'zakuliska', 'PlushevChannel', 'mig41', 'pzdcofficial', 'tvjihad', 'russiaelections', 'staraya', 'maester', 'antiskrepa', 'kremlin_mother_expert', 'operline_ru', 'master_pera', 'smirnovmz', 'legitimniy', 'NULL', 'metodi4ka', 'worldprotest', 'ru_global', 'insect_life', 'seryikardinal', 'pchikov', 'politota_plus', 'whalesgohigh', 'ATC_ATC', 'mediakiller', 'politadequate', 'polittemnik', 'deputatdumy', 'kshulika', 'oko_ok', 'nomenclatura', 'minpravda', 'sledak_shepnul', 'ovdinfo', 'ctrs2018', 'dimsmirnov175', 'RKadyrov_95', 'orda_mordora', 'yudenich', 'rospres', 'wwwproektmedia', 'sebestoimost'))"
      ]
     },
     "execution_count": 10,
     "metadata": {},
     "output_type": "execute_result"
    }
   ],
   "source": [
    "G_simple.nodes()"
   ]
  },
  {
   "cell_type": "markdown",
   "metadata": {},
   "source": [
    "## 1.3 Simple graph with weighted edges"
   ]
  },
  {
   "cell_type": "code",
   "execution_count": 57,
   "metadata": {},
   "outputs": [],
   "source": [
    "_edges = [] # array to minify processing load\n",
    "weighted_edges = []\n",
    "\n",
    "# weighted edges\n",
    "for edge in edges:\n",
    "    if edge not in _edges:\n",
    "        number = edges.count(edge)\n",
    "        weighted_edge = (edge[0], edge[1], number)\n",
    "    \n",
    "        if weighted_edge not in weighted_edges:\n",
    "            weighted_edges.append(weighted_edge)\n",
    "        \n",
    "        _edges.append(edge)"
   ]
  },
  {
   "cell_type": "code",
   "execution_count": 59,
   "metadata": {},
   "outputs": [
    {
     "name": "stdout",
     "output_type": "stream",
     "text": [
      "Channels with maximum connections (weight): krasniydom & margaritasimonyan\n",
      "Number of connections between them: 573\n"
     ]
    }
   ],
   "source": [
    "# find maximum weight\n",
    "max_weight = max([int(edge[2]) for edge in weighted_edges])\n",
    "\n",
    "for e in weighted_edges:\n",
    "    if int(e[2]) == max_weight:\n",
    "        print(\"Channels with maximum connections (weight):\", e[0], \"&\", e[1])\n",
    "        print(\"Number of connections between them:\", e[2])\n",
    "        break"
   ]
  },
  {
   "cell_type": "code",
   "execution_count": 60,
   "metadata": {},
   "outputs": [
    {
     "name": "stdout",
     "output_type": "stream",
     "text": [
      "Number of nodes in the weighted network: 100\n",
      "Number of edges in the weighted graph: 3028\n"
     ]
    }
   ],
   "source": [
    "# create weighted graph\n",
    "G_weighted = nx.Graph()\n",
    "G_weighted.add_weighted_edges_from(weighted_edges)\n",
    "\n",
    "# show statistics\n",
    "print(\"Number of nodes in the weighted network:\", G_weighted.number_of_nodes())\n",
    "print(\"Number of edges in the weighted graph:\", G_weighted.number_of_edges())\n",
    "\n",
    "# save this graph\n",
    "nx.write_gpickle(G_weighted, \"graphs/1.3_weighted_graph.gpickle\", protocol=4)"
   ]
  },
  {
   "cell_type": "markdown",
   "metadata": {},
   "source": [
    "## 1.4 Bipartite graph with weighted edges"
   ]
  },
  {
   "cell_type": "code",
   "execution_count": 61,
   "metadata": {},
   "outputs": [
    {
     "name": "stdout",
     "output_type": "stream",
     "text": [
      "The number of forwarders: 99\n",
      "the number of mentioned channels: 100\n",
      "The number of edges between them: 4643\n"
     ]
    }
   ],
   "source": [
    "forw = set()\n",
    "ment = set()\n",
    "edges_raw = list()\n",
    "\n",
    "# create list of forwarders and mentioned channels; write edges between them\n",
    "for i in range(0, len(forwards)):\n",
    "    forw.add(forwards[i]['row']['channel']+'__forw')\n",
    "    ment.add(forwards[i]['row']['mentioned_channel']+'__ment')\n",
    "        \n",
    "    edges_raw.append((forwards[i]['row']['channel']+'__forw', forwards[i]['row']['mentioned_channel']+'__ment'))\n",
    "\n",
    "# create weighted edges\n",
    "edges_count = collections.Counter(edges_raw)\n",
    "edges = list()\n",
    "for k, v in dict(edges_count).items():\n",
    "    item = list(k)\n",
    "    item.append(v)\n",
    "    edges.append(tuple(item))\n",
    "\n",
    "# statistics\n",
    "forw = list(forw)\n",
    "ment = list(ment)\n",
    "edges = list(edges)\n",
    "\n",
    "print(\"The number of forwarders:\", len(forw))\n",
    "print(\"the number of mentioned channels:\", len(ment))\n",
    "print(\"The number of edges between them:\", len(edges))"
   ]
  },
  {
   "cell_type": "code",
   "execution_count": 67,
   "metadata": {},
   "outputs": [],
   "source": [
    "# create bipartite graph with entities: forwarders and mentioned\n",
    "G_bipartite = nx.Graph()\n",
    "G_bipartite.add_nodes_from(forw, bipartite='forwarders')\n",
    "G_bipartite.add_nodes_from(ment, bipartite='mentioned')\n",
    "G_bipartite.add_weighted_edges_from(edges)\n",
    "\n",
    "# save this graph\n",
    "nx.write_gpickle(G_bipartite, \"graphs/1.4_bipartite_graph.gpickle\", protocol=4)"
   ]
  }
 ],
 "metadata": {
  "kernelspec": {
   "display_name": "Python 3",
   "language": "python",
   "name": "python3"
  },
  "language_info": {
   "codemirror_mode": {
    "name": "ipython",
    "version": 3
   },
   "file_extension": ".py",
   "mimetype": "text/x-python",
   "name": "python",
   "nbconvert_exporter": "python",
   "pygments_lexer": "ipython3",
   "version": "3.7.4"
  }
 },
 "nbformat": 4,
 "nbformat_minor": 2
}
